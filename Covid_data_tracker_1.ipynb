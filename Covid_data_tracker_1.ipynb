{
  "nbformat": 4,
  "nbformat_minor": 0,
  "metadata": {
    "colab": {
      "name": "Covid data tracker_1.ipynb",
      "provenance": [],
      "authorship_tag": "ABX9TyNguo8rnce1WYrdS5Y7U7TE",
      "include_colab_link": true
    },
    "kernelspec": {
      "name": "python3",
      "display_name": "Python 3"
    }
  },
  "cells": [
    {
      "cell_type": "markdown",
      "metadata": {
        "id": "view-in-github",
        "colab_type": "text"
      },
      "source": [
        "<a href=\"https://colab.research.google.com/github/jmda8400/covid-data-tracker/blob/main/Covid_data_tracker_1.ipynb\" target=\"_parent\"><img src=\"https://colab.research.google.com/assets/colab-badge.svg\" alt=\"Open In Colab\"/></a>"
      ]
    },
    {
      "cell_type": "code",
      "metadata": {
        "colab": {
          "base_uri": "https://localhost:8080/",
          "height": 398
        },
        "id": "Gpt3wOtZzbsU",
        "outputId": "d58f94fb-5aff-4ec3-8cd6-fd68bf5a3c6d"
      },
      "source": [
        "import pandas as pd\r\n",
        "import numpy as np\r\n",
        "import matplotlib.pyplot as plt\r\n",
        "import matplotlib.dates as mdates \r\n",
        "import matplotlib.ticker as tkr\r\n",
        "import datetime\r\n",
        "from datetime import datetime\r\n",
        "import requests\r\n",
        "\r\n",
        "\r\n",
        "#First script\r\n",
        "\r\n",
        "#Bring a comma separated value file\r\n",
        "\r\n",
        "def wget(url):\r\n",
        "    r = requests.get(url, allow_redirects=True)\r\n",
        "    with open(url[url.rfind('/') + 1::], 'wb') as f:\r\n",
        "        f.write(r.content)\r\n",
        "\r\n",
        "wget (\"https://covid.ourworldindata.org/data/ecdc/full_data.csv\")\r\n",
        "\r\n",
        "file = pd.read_csv(\"full_data.csv\")\r\n",
        "data = file.to_dict(\"list\")\r\n",
        "\r\n",
        "#Welcome menu\r\n",
        "\r\n",
        "print(\"Amount of cases and deaths of a given country by COVID-19.\")\r\n",
        "\r\n",
        "#Safety measure\r\n",
        "\r\n",
        "varCheck = []\r\n",
        "\r\n",
        "for i in range(0, len(data[\"date\"])):\r\n",
        "    varCheck.append(data['location'][i])\r\n",
        "\r\n",
        "setCheck = set()\r\n",
        "\r\n",
        "for x in varCheck:\r\n",
        "    setCheck.add(x)\r\n",
        "\r\n",
        "listCheck = list()\r\n",
        "listCheck = list(setCheck)\r\n",
        "\r\n",
        "print(\"Possible countries:\")\r\n",
        "print(listCheck)\r\n",
        "\r\n",
        "country = input(\"Type the name of a country (first letter in uppercase please): \")\r\n",
        "\r\n",
        "#The safety measure will automatically check if the user's input is in fact a country.\r\n",
        "\r\n",
        "if country in listCheck:\r\n",
        "    print(\"Country found. Plotting data.\")\r\n",
        "else:\r\n",
        "    z = 1\r\n",
        "    while z == 1:\r\n",
        "        print(\"Wrong.\")\r\n",
        "        country = input(\"Type the name of a country (first letter in uppercase please): \")\r\n",
        "        if country in listCheck:\r\n",
        "            print(\"Country found. Plotting data.\")\r\n",
        "            z = 0\r\n",
        "\r\n",
        "#//\r\n",
        "\r\n",
        "t1 = [data[\"date\"][0]]\r\n",
        "s1 = [data[\"total_cases\"][0]]\r\n",
        "d1 = [data[\"total_deaths\"][0]]\r\n",
        "\r\n",
        "#If the input country is equal to a country listed in the database, the variables above this comment will take the information (day, amount of cases and deaths).\r\n",
        "\r\n",
        "for i in range(1, len(data[\"date\"])):\r\n",
        "    if country == (data[\"location\"][i]):\r\n",
        "        t1.append(data[\"date\"][i])\r\n",
        "        s1.append(data[\"total_cases\"][i])\r\n",
        "        d1.append(data[\"total_deaths\"][i])\r\n",
        "\r\n",
        "### I need to go from my dates string list to a format matplotlib can recognize as dates\r\n",
        "\r\n",
        "date = (datetime.strptime(ts, '%Y-%m-%d') for ts in t1)\r\n",
        "date_strings = [datetime.strftime(d, '%Y-%m-%d') for d in date]\r\n",
        "\r\n",
        "### Just plotting\r\n",
        "\r\n",
        "fig, ax = plt.subplots()\r\n",
        "date_strings = mdates.datestr2num(date_strings)\r\n",
        "plt.title('Infected (red) and casualties (black):')\r\n",
        "plt.ylabel('Total amount of COVID-19 cases')\r\n",
        "plt.xlabel('Time (year-month-day)')\r\n",
        "ax.plot(date_strings, s1, 'r-')\r\n",
        "ax.plot(date_strings, d1, 'k-')\r\n",
        "ax.xaxis_date()\r\n",
        "fig.autofmt_xdate()\r\n",
        "\r\n",
        "plt.show()"
      ],
      "execution_count": 9,
      "outputs": [
        {
          "output_type": "stream",
          "text": [
            "Amount of cases and deaths of a given country by COVID-19.\n",
            "Possible countries:\n",
            "['Dominica', 'Guinea', 'Isle of Man', 'Cayman Islands', 'Netherlands', 'Sierra Leone', 'Cape Verde', 'Bosnia and Herzegovina', 'Burkina Faso', 'United Arab Emirates', 'Puerto Rico', 'Indonesia', 'Mauritius', 'Brunei', 'Palestine', 'Nigeria', 'Spain', 'Fiji', 'Sudan', 'Guatemala', 'Venezuela', 'Costa Rica', 'Cyprus', 'Bermuda', 'Malawi', 'Nepal', 'India', 'Tanzania', 'Kyrgyzstan', 'Panama', 'Somalia', 'Brazil', 'Portugal', 'Jordan', 'Switzerland', 'Bangladesh', 'Gambia', 'South Africa', 'Chile', 'Bahamas', 'Finland', 'Swaziland', 'Lesotho', 'Gabon', 'Botswana', 'Chad', 'Ethiopia', 'Azerbaijan', 'Burundi', 'Haiti', 'Iraq', 'Saint Kitts and Nevis', 'Serbia', 'Uruguay', 'Georgia', 'Norway', 'United States', 'Estonia', 'Nicaragua', 'Rwanda', 'Kazakhstan', 'Antigua and Barbuda', 'Saint Lucia', 'Zambia', 'Macedonia', 'Wallis and Futuna', 'Solomon Islands', 'Anguilla', 'Jamaica', 'Mali', 'Mauritania', 'Grenada', 'El Salvador', 'Albania', 'Ireland', 'South Sudan', 'Japan', 'Kenya', 'Papua New Guinea', 'Guinea-Bissau', 'Moldova', 'Slovenia', 'Liechtenstein', 'New Caledonia', 'Mexico', 'Qatar', 'Turkey', 'Tunisia', 'Sint Maarten (Dutch part)', 'Romania', 'New Zealand', 'Guam', 'Italy', 'San Marino', 'Mozambique', 'Guyana', 'Barbados', 'Lebanon', 'Malaysia', 'Senegal', 'Angola', 'Falkland Islands', 'Singapore', 'Bolivia', 'Canada', 'Montserrat', 'Vanuatu', 'Argentina', 'Bulgaria', 'Kuwait', 'International', 'Luxembourg', 'Comoros', 'United Kingdom', 'Honduras', 'Pakistan', 'Benin', 'Uganda', 'Aruba', 'Saint Vincent and the Grenadines', 'Suriname', 'Sri Lanka', 'Algeria', 'Afghanistan', 'Northern Mariana Islands', 'Myanmar', 'United States Virgin Islands', 'Uzbekistan', 'Western Sahara', 'Faeroe Islands', 'Turks and Caicos Islands', 'Belize', 'Libya', 'Ghana', 'Yemen', 'Guernsey', 'Iran', 'Trinidad and Tobago', 'Lithuania', 'Madagascar', 'Monaco', 'Sweden', \"Cote d'Ivoire\", 'Belarus', 'Slovakia', 'Timor', 'Central African Republic', 'Mongolia', 'Kosovo', 'Morocco', 'Niger', 'Hungary', 'Czech Republic', 'Australia', 'Iceland', 'British Virgin Islands', 'Bonaire Sint Eustatius and Saba', 'Cambodia', 'Dominican Republic', 'Marshall Islands', 'Cuba', 'Seychelles', 'World', 'Greece', 'Zimbabwe', 'Israel', 'Bahrain', 'Taiwan', 'Vatican', 'France', 'Gibraltar', 'Thailand', 'Equatorial Guinea', 'Germany', 'Namibia', 'Saudi Arabia', 'Djibouti', 'Armenia', 'Togo', 'Colombia', 'Bhutan', 'Maldives', 'Syria', 'Tajikistan', 'Jersey', 'Belgium', 'Russia', 'Paraguay', 'Oman', 'Curacao', 'French Polynesia', 'Montenegro', 'Vietnam', 'Peru', 'Sao Tome and Principe', 'Ukraine', 'Eritrea', 'Philippines', 'Austria', 'Ecuador', 'Congo', 'Liberia', 'Cameroon', 'Egypt', 'Poland', 'Laos', 'Malta', 'Denmark', 'Latvia', 'Croatia', 'South Korea', 'Democratic Republic of Congo', 'Greenland', 'China', 'Andorra']\n",
            "Type the name of a country (first letter in uppercase please): Netherlands\n",
            "Country found. Plotting data.\n"
          ],
          "name": "stdout"
        },
        {
          "output_type": "display_data",
          "data": {
            "image/png": "[encoded data removed]",
            "text/plain": [
              "<Figure size 432x288 with 1 Axes>"
            ]
          },
          "metadata": {
            "tags": [],
            "needs_background": "light"
          }
        }
      ]
    }
  ]
}