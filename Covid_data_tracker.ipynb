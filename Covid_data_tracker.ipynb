{
  "nbformat": 4,
  "nbformat_minor": 0,
  "metadata": {
    "colab": {
      "name": "Covid data tracker.ipynb",
      "provenance": [],
      "authorship_tag": "ABX9TyMtrZqDm0WCQy9ceUuhixbH",
      "include_colab_link": true
    },
    "kernelspec": {
      "name": "python3",
      "display_name": "Python 3"
    }
  },
  "cells": [
    {
      "cell_type": "markdown",
      "metadata": {
        "id": "view-in-github",
        "colab_type": "text"
      },
      "source": [
        "<a href=\"https://colab.research.google.com/github/jmda8400/covid-data-tracker/blob/main/Covid_data_tracker.ipynb\" target=\"_parent\"><img src=\"https://colab.research.google.com/assets/colab-badge.svg\" alt=\"Open In Colab\"/></a>"
      ]
    },
    {
      "cell_type": "code",
      "metadata": {
        "colab": {
          "base_uri": "https://localhost:8080/"
        },
        "id": "Gpt3wOtZzbsU",
        "outputId": "9a92a9de-f075-4c08-b88d-205c49fd331e"
      },
      "source": [
        "import pandas as pd\r\n",
        "import numpy as np\r\n",
        "import matplotlib.pyplot as plt\r\n",
        "import matplotlib.dates as mdates \r\n",
        "import matplotlib.ticker as tkr\r\n",
        "import requests\r\n",
        "\r\n",
        "#First script\r\n",
        "\r\n",
        "#Bring a coma separated value file\r\n",
        "\r\n",
        "def wget(url):\r\n",
        "    r = requests.get(url, allow_redirects=True)\r\n",
        "    with open(url[url.rfind('/') + 1::], 'wb') as f:\r\n",
        "        f.write(r.content)\r\n",
        "\r\n",
        "wget (\"https://covid.ourworldindata.org/data/ecdc/full_data.csv\")\r\n",
        "\r\n",
        "file = pd.read_csv(\"full_data.csv\")\r\n",
        "data = file.to_dict(\"list\")\r\n",
        "\r\n",
        "#Welcome menu\r\n",
        "\r\n",
        "print(\"Amount of cases and deaths of a given country by COVID-19.\")\r\n",
        "\r\n",
        "#Safety measure\r\n",
        "\r\n",
        "varCheck = []\r\n",
        "\r\n",
        "for i in range(0, len(data[\"date\"])):\r\n",
        "    varCheck.append(data['location'][i])\r\n",
        "\r\n",
        "setCheck = set()\r\n",
        "\r\n",
        "for x in varCheck:\r\n",
        "    setCheck.add(x)\r\n",
        "\r\n",
        "listCheck = list()\r\n",
        "listCheck = list(setCheck)\r\n",
        "\r\n",
        "print(\"Possible countries:\")\r\n",
        "print(listCheck)\r\n",
        "\r\n",
        "country = input(\"Type the name of a country (first letter in uppercase please): \")\r\n",
        "\r\n",
        "#The safety measure will automatically check if the user's input is in fact a country.\r\n",
        "\r\n",
        "if country in listCheck:\r\n",
        "    print(\"Country found. Plotting data.\")\r\n",
        "else:\r\n",
        "    z = 1\r\n",
        "    while z == 1:\r\n",
        "        print(\"Wrong.\")\r\n",
        "        country = input(\"Type the name of a country (first letter in uppercase please): \")\r\n",
        "        if country in listCheck:\r\n",
        "            print(\"Country found. Plotting data.\")\r\n",
        "            z = 0\r\n",
        "\r\n",
        "#//\r\n",
        "\r\n",
        "t1 = [data[\"date\"][0]]\r\n",
        "s1 = [data[\"total_cases\"][0]]\r\n",
        "d1 = [data[\"total_deaths\"][0]]\r\n",
        "\r\n",
        "#If the input country is equal to a country listed in the database, the variables above this comment will take the information (day, amount of cases and deaths).\r\n",
        "\r\n",
        "for i in range(1, len(data[\"date\"])):\r\n",
        "    if country == (data[\"location\"][i]):\r\n",
        "        t1.append(data[\"date\"][i])\r\n",
        "        s1.append(data[\"total_cases\"][i])\r\n",
        "        d1.append(data[\"total_deaths\"][i])\r\n",
        "\r\n",
        "#//\r\n",
        "\r\n",
        "\r\n",
        "plt.title('Infected (in red) and deaths (in black):')\r\n",
        "plt.xticks(rotation=90)\r\n",
        "plt.ylabel('Total amount of COVID-19 cases')\r\n",
        "plt.xlabel('Time (year-month-day)')\r\n",
        "plt.plot(t1,s1,'r-')\r\n",
        "plt.plot(t1,d1,'k-')\r\n",
        "\r\n",
        "plt.show()"
      ],
      "execution_count": null,
      "outputs": [
        {
          "output_type": "stream",
          "text": [
            "Amount of cases and deaths of a given country by COVID-19.\n",
            "Possible countries:\n",
            "['Costa Rica', 'India', 'Curacao', 'Kyrgyzstan', 'Belgium', 'Gibraltar', 'Panama', 'El Salvador', 'Taiwan', 'Saint Vincent and the Grenadines', 'Malawi', 'United Kingdom', 'World', 'Zimbabwe', 'Turks and Caicos Islands', 'Central African Republic', 'Lithuania', 'Poland', 'Mauritania', 'Laos', 'Nicaragua', 'Wallis and Futuna', 'Egypt', 'Guinea', 'United States', 'Mozambique', 'Malta', 'Papua New Guinea', 'Saint Kitts and Nevis', 'British Virgin Islands', 'Syria', 'Finland', 'Guam', 'Austria', 'Palestine', 'Uganda', 'Sao Tome and Principe', 'Ghana', 'Qatar', 'Georgia', 'Liechtenstein', 'Brunei', 'Cyprus', 'Dominica', 'Ethiopia', 'Djibouti', 'South Africa', 'Suriname', 'South Korea', 'Tunisia', 'Bahrain', 'Togo', 'Germany', 'Thailand', 'Chad', 'Vatican', 'France', 'Venezuela', 'China', 'Luxembourg', 'Malaysia', 'Peru', 'Pakistan', 'Gambia', 'Gabon', 'Armenia', 'Kazakhstan', 'Myanmar', 'Cuba', 'Greece', 'Fiji', 'Portugal', 'Kuwait', 'French Polynesia', 'Cameroon', 'Romania', 'Bolivia', 'Burkina Faso', 'Grenada', 'Mauritius', 'Netherlands', 'Spain', 'Iraq', 'Iran', 'United Arab Emirates', 'Iceland', 'Ukraine', 'Morocco', 'Guyana', 'Puerto Rico', 'Libya', 'Mongolia', 'Nepal', 'Madagascar', 'Hungary', 'Trinidad and Tobago', 'Botswana', 'San Marino', 'Yemen', \"Cote d'Ivoire\", 'Turkey', 'International', 'Chile', 'Kenya', 'Equatorial Guinea', 'Azerbaijan', 'Aruba', 'Congo', 'Argentina', 'Bosnia and Herzegovina', 'Montenegro', 'Somalia', 'South Sudan', 'Bonaire Sint Eustatius and Saba', 'Philippines', 'Rwanda', 'Senegal', 'Solomon Islands', 'Cayman Islands', 'Mali', 'Ecuador', 'Guinea-Bissau', 'Saint Lucia', 'Seychelles', 'Western Sahara', 'Japan', 'New Zealand', 'Switzerland', 'Bangladesh', 'Algeria', 'Sweden', 'Italy', 'New Caledonia', 'Greenland', 'Jamaica', 'Eritrea', 'Faeroe Islands', 'Cape Verde', 'Albania', 'Sint Maarten (Dutch part)', 'Timor', 'Oman', 'Haiti', 'Sierra Leone', 'Estonia', 'Isle of Man', 'Jersey', 'Guatemala', 'Dominican Republic', 'Honduras', 'Macedonia', 'Maldives', 'Slovakia', 'Slovenia', 'Croatia', 'Colombia', 'Bulgaria', 'Belarus', 'Serbia', 'United States Virgin Islands', 'Indonesia', 'Belize', 'Jordan', 'Latvia', 'Ireland', 'Bhutan', 'Guernsey', 'Sudan', 'Zambia', 'Namibia', 'Czech Republic', 'Brazil', 'Barbados', 'Angola', 'Tanzania', 'Montserrat', 'Australia', 'Russia', 'Moldova', 'Northern Mariana Islands', 'Uruguay', 'Swaziland', 'Mexico', 'Israel', 'Comoros', 'Antigua and Barbuda', 'Benin', 'Burundi', 'Saudi Arabia', 'Tajikistan', 'Cambodia', 'Anguilla', 'Afghanistan', 'Falkland Islands', 'Niger', 'Canada', 'Vietnam', 'Marshall Islands', 'Andorra', 'Nigeria', 'Paraguay', 'Liberia', 'Bahamas', 'Vanuatu', 'Singapore', 'Sri Lanka', 'Lesotho', 'Kosovo', 'Uzbekistan', 'Denmark', 'Bermuda', 'Monaco', 'Norway', 'Democratic Republic of Congo', 'Lebanon']\n",
            "Type the name of a country (first letter in uppercase please): a\n",
            "Wrong.\n",
            "Type the name of a country (first letter in uppercase please): d\n",
            "Wrong.\n"
          ],
          "name": "stdout"
        }
      ]
    }
  ]
}